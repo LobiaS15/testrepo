{
 "cells": [
  {
   "cell_type": "markdown",
   "id": "24d71555-29be-445b-967e-1c26b4c5c5cd",
   "metadata": {},
   "source": [
    "# Data Science Tools and Ecosystem"
   ]
  },
  {
   "cell_type": "markdown",
   "id": "263b2009-143b-4e80-acec-e4d3f2bbe9ed",
   "metadata": {},
   "source": [
    "In this notebook, Data Science Tools and Ecosystem are summarized."
   ]
  },
  {
   "cell_type": "markdown",
   "id": "55f49045-3566-4552-b10a-3ec5ba2fded3",
   "metadata": {},
   "source": [
    "**Objectives:**"
   ]
  },
  {
   "cell_type": "markdown",
   "id": "4ab86967-4e6b-4c70-a7ec-b5b7028020e8",
   "metadata": {},
   "source": [
    "- List popular languages for Data Science\n",
    "- List commonly used libraries for Data Science\n",
    "- Arithmetic expression examples"
   ]
  },
  {
   "cell_type": "markdown",
   "id": "662e7835-65f3-4d2a-ad39-69ffba2d286a",
   "metadata": {},
   "source": [
    "## Author"
   ]
  },
  {
   "cell_type": "markdown",
   "id": "0856dd55-eac6-485a-ba6a-c11549f62106",
   "metadata": {},
   "source": [
    "Sergei Lobia"
   ]
  },
  {
   "cell_type": "markdown",
   "id": "da25b7d0-b8f3-4b05-bc7c-e7b10fdf3c47",
   "metadata": {},
   "source": [
    "Some of the popular languages that Data Scientists use are:"
   ]
  },
  {
   "cell_type": "markdown",
   "id": "7d88dd2f-d7ab-457a-b303-c097340c5a8f",
   "metadata": {},
   "source": [
    "1. Python\n",
    "2. R\n",
    "3. SQL\n",
    "4. Java\n",
    "5. Julia\n",
    "6. Scala"
   ]
  },
  {
   "cell_type": "markdown",
   "id": "e78cb62f-ea70-4b67-95eb-2130d2c5c31a",
   "metadata": {},
   "source": [
    "Some of the commonly used libraries used by Data Scientists include:"
   ]
  },
  {
   "cell_type": "markdown",
   "id": "a3c89f9d-7165-44d0-8987-63e373c0a4bb",
   "metadata": {},
   "source": [
    "1. NumPy\n",
    "2. Pandas\n",
    "3. Matplotlib\n",
    "4. Seaborn\n",
    "5. TensorFlow"
   ]
  },
  {
   "cell_type": "markdown",
   "id": "cbb3ad5b-9a7b-40e1-b720-94ab19c658b0",
   "metadata": {},
   "source": [
    "|Data Science Tools |\n",
    "| ------------------|\n",
    "| RStudio           |\n",
    "| Apache Spark      |\n",
    "| Hadoop            |"
   ]
  },
  {
   "cell_type": "markdown",
   "id": "d504164a-f8ae-4746-94c2-b4b1e8232be3",
   "metadata": {},
   "source": [
    "# Below are a few examples of evaluating arithmetic expressions in Python"
   ]
  },
  {
   "cell_type": "markdown",
   "id": "a7051c76-b5a1-405b-b539-2960f5fa7042",
   "metadata": {},
   "source": [
    "This a simple arithmetic expression to mutiply then add integers"
   ]
  },
  {
   "cell_type": "code",
   "execution_count": 3,
   "id": "c1804874-d349-43c4-bfdc-1d7a51235f1c",
   "metadata": {},
   "outputs": [
    {
     "data": {
      "text/plain": [
       "17"
      ]
     },
     "execution_count": 3,
     "metadata": {},
     "output_type": "execute_result"
    }
   ],
   "source": [
    "(3*4)+5"
   ]
  },
  {
   "cell_type": "markdown",
   "id": "90add895-4d03-4ceb-8d43-b07b889afeb4",
   "metadata": {},
   "source": [
    "This will convert 200 minutes to hours by diving by 60"
   ]
  },
  {
   "cell_type": "code",
   "execution_count": 4,
   "id": "52418ac1-17e4-485e-874c-52f84df7cc56",
   "metadata": {},
   "outputs": [
    {
     "data": {
      "text/plain": [
       "3.3333333333333335"
      ]
     },
     "execution_count": 4,
     "metadata": {},
     "output_type": "execute_result"
    }
   ],
   "source": [
    "200/60"
   ]
  },
  {
   "cell_type": "code",
   "execution_count": null,
   "id": "018134b5-9b17-40d1-831f-6356f8687697",
   "metadata": {},
   "outputs": [],
   "source": []
  }
 ],
 "metadata": {
  "kernelspec": {
   "display_name": "Python 3 (ipykernel)",
   "language": "python",
   "name": "python3"
  },
  "language_info": {
   "codemirror_mode": {
    "name": "ipython",
    "version": 3
   },
   "file_extension": ".py",
   "mimetype": "text/x-python",
   "name": "python",
   "nbconvert_exporter": "python",
   "pygments_lexer": "ipython3",
   "version": "3.13.2"
  }
 },
 "nbformat": 4,
 "nbformat_minor": 5
}
